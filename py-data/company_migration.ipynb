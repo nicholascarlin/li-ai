{
 "cells": [
  {
   "cell_type": "code",
   "execution_count": 13,
   "id": "f702cf69",
   "metadata": {},
   "outputs": [
    {
     "name": "stdout",
     "output_type": "stream",
     "text": [
      "Requirement already satisfied: python-dotenv in /Users/nicholascarlin/opt/anaconda3/lib/python3.8/site-packages (1.0.0)\n",
      "Requirement already satisfied: supabase in /Users/nicholascarlin/opt/anaconda3/lib/python3.8/site-packages (1.0.3)\n",
      "Requirement already satisfied: realtime<2.0.0,>=1.0.0 in /Users/nicholascarlin/opt/anaconda3/lib/python3.8/site-packages (from supabase) (1.0.0)\n",
      "Requirement already satisfied: python-semantic-release==7.33.2 in /Users/nicholascarlin/opt/anaconda3/lib/python3.8/site-packages (from supabase) (7.33.2)\n",
      "Requirement already satisfied: gotrue<2.0.0,>=1.0.1 in /Users/nicholascarlin/opt/anaconda3/lib/python3.8/site-packages (from supabase) (1.0.1)\n",
      "Requirement already satisfied: postgrest<0.11.0,>=0.10.6 in /Users/nicholascarlin/opt/anaconda3/lib/python3.8/site-packages (from supabase) (0.10.6)\n",
      "Requirement already satisfied: storage3<0.6.0,>=0.5.2 in /Users/nicholascarlin/opt/anaconda3/lib/python3.8/site-packages (from supabase) (0.5.2)\n",
      "Requirement already satisfied: httpx<0.24.0,>=0.23.0 in /Users/nicholascarlin/opt/anaconda3/lib/python3.8/site-packages (from supabase) (0.23.3)\n",
      "Requirement already satisfied: supafunc<0.3.0,>=0.2.2 in /Users/nicholascarlin/opt/anaconda3/lib/python3.8/site-packages (from supabase) (0.2.2)\n",
      "Requirement already satisfied: twine<4,>=3 in /Users/nicholascarlin/opt/anaconda3/lib/python3.8/site-packages (from python-semantic-release==7.33.2->supabase) (3.8.0)\n",
      "Requirement already satisfied: tomlkit~=0.10 in /Users/nicholascarlin/opt/anaconda3/lib/python3.8/site-packages (from python-semantic-release==7.33.2->supabase) (0.11.7)\n",
      "Requirement already satisfied: click<9,>=7 in /Users/nicholascarlin/opt/anaconda3/lib/python3.8/site-packages (from python-semantic-release==7.33.2->supabase) (7.1.2)\n",
      "Requirement already satisfied: wheel in /Users/nicholascarlin/opt/anaconda3/lib/python3.8/site-packages (from python-semantic-release==7.33.2->supabase) (0.36.2)\n",
      "Requirement already satisfied: click-log<1,>=0.3 in /Users/nicholascarlin/opt/anaconda3/lib/python3.8/site-packages (from python-semantic-release==7.33.2->supabase) (0.4.0)\n",
      "Requirement already satisfied: gitpython<4,>=3.0.8 in /Users/nicholascarlin/opt/anaconda3/lib/python3.8/site-packages (from python-semantic-release==7.33.2->supabase) (3.1.31)\n",
      "Requirement already satisfied: dotty-dict<2,>=1.3.0 in /Users/nicholascarlin/opt/anaconda3/lib/python3.8/site-packages (from python-semantic-release==7.33.2->supabase) (1.3.1)\n",
      "Requirement already satisfied: semver<3,>=2.10 in /Users/nicholascarlin/opt/anaconda3/lib/python3.8/site-packages (from python-semantic-release==7.33.2->supabase) (2.13.0)\n",
      "Requirement already satisfied: requests<3,>=2.25 in /Users/nicholascarlin/opt/anaconda3/lib/python3.8/site-packages (from python-semantic-release==7.33.2->supabase) (2.28.2)\n",
      "Requirement already satisfied: invoke<2,>=1.4.1 in /Users/nicholascarlin/opt/anaconda3/lib/python3.8/site-packages (from python-semantic-release==7.33.2->supabase) (1.7.3)\n",
      "Requirement already satisfied: python-gitlab<4,>=2 in /Users/nicholascarlin/opt/anaconda3/lib/python3.8/site-packages (from python-semantic-release==7.33.2->supabase) (3.14.0)\n",
      "Requirement already satisfied: packaging in /Users/nicholascarlin/opt/anaconda3/lib/python3.8/site-packages (from python-semantic-release==7.33.2->supabase) (20.9)\n",
      "Requirement already satisfied: gitdb<5,>=4.0.1 in /Users/nicholascarlin/opt/anaconda3/lib/python3.8/site-packages (from gitpython<4,>=3.0.8->python-semantic-release==7.33.2->supabase) (4.0.10)\n",
      "Requirement already satisfied: smmap<6,>=3.0.1 in /Users/nicholascarlin/opt/anaconda3/lib/python3.8/site-packages (from gitdb<5,>=4.0.1->gitpython<4,>=3.0.8->python-semantic-release==7.33.2->supabase) (5.0.0)\n",
      "Requirement already satisfied: pydantic<2.0.0,>=1.10.0 in /Users/nicholascarlin/opt/anaconda3/lib/python3.8/site-packages (from gotrue<2.0.0,>=1.0.1->supabase) (1.10.7)\n",
      "Requirement already satisfied: sniffio in /Users/nicholascarlin/opt/anaconda3/lib/python3.8/site-packages (from httpx<0.24.0,>=0.23.0->supabase) (1.2.0)\n",
      "Requirement already satisfied: httpcore<0.17.0,>=0.15.0 in /Users/nicholascarlin/opt/anaconda3/lib/python3.8/site-packages (from httpx<0.24.0,>=0.23.0->supabase) (0.16.3)\n",
      "Requirement already satisfied: certifi in /Users/nicholascarlin/opt/anaconda3/lib/python3.8/site-packages (from httpx<0.24.0,>=0.23.0->supabase) (2020.12.5)\n",
      "Requirement already satisfied: rfc3986[idna2008]<2,>=1.3 in /Users/nicholascarlin/opt/anaconda3/lib/python3.8/site-packages (from httpx<0.24.0,>=0.23.0->supabase) (1.5.0)\n",
      "Requirement already satisfied: anyio<5.0,>=3.0 in /Users/nicholascarlin/opt/anaconda3/lib/python3.8/site-packages (from httpcore<0.17.0,>=0.15.0->httpx<0.24.0,>=0.23.0->supabase) (3.6.2)\n",
      "Requirement already satisfied: h11<0.15,>=0.13 in /Users/nicholascarlin/opt/anaconda3/lib/python3.8/site-packages (from httpcore<0.17.0,>=0.15.0->httpx<0.24.0,>=0.23.0->supabase) (0.14.0)\n",
      "Requirement already satisfied: idna>=2.8 in /Users/nicholascarlin/opt/anaconda3/lib/python3.8/site-packages (from anyio<5.0,>=3.0->httpcore<0.17.0,>=0.15.0->httpx<0.24.0,>=0.23.0->supabase) (2.10)\n",
      "Requirement already satisfied: deprecation<3.0.0,>=2.1.0 in /Users/nicholascarlin/opt/anaconda3/lib/python3.8/site-packages (from postgrest<0.11.0,>=0.10.6->supabase) (2.1.0)\n",
      "Requirement already satisfied: strenum<0.5.0,>=0.4.9 in /Users/nicholascarlin/opt/anaconda3/lib/python3.8/site-packages (from postgrest<0.11.0,>=0.10.6->supabase) (0.4.10)\n",
      "Requirement already satisfied: typing-extensions>=4.2.0 in /Users/nicholascarlin/opt/anaconda3/lib/python3.8/site-packages (from pydantic<2.0.0,>=1.10.0->gotrue<2.0.0,>=1.0.1->supabase) (4.5.0)\n",
      "Requirement already satisfied: requests-toolbelt>=0.10.1 in /Users/nicholascarlin/opt/anaconda3/lib/python3.8/site-packages (from python-gitlab<4,>=2->python-semantic-release==7.33.2->supabase) (0.10.1)\n",
      "Requirement already satisfied: websockets<11.0,>=10.3 in /Users/nicholascarlin/opt/anaconda3/lib/python3.8/site-packages (from realtime<2.0.0,>=1.0.0->supabase) (10.4)\n",
      "Requirement already satisfied: python-dateutil<3.0.0,>=2.8.1 in /Users/nicholascarlin/opt/anaconda3/lib/python3.8/site-packages (from realtime<2.0.0,>=1.0.0->supabase) (2.8.2)\n",
      "Requirement already satisfied: six>=1.5 in /Users/nicholascarlin/opt/anaconda3/lib/python3.8/site-packages (from python-dateutil<3.0.0,>=2.8.1->realtime<2.0.0,>=1.0.0->supabase) (1.15.0)\n",
      "Requirement already satisfied: urllib3<1.27,>=1.21.1 in /Users/nicholascarlin/opt/anaconda3/lib/python3.8/site-packages (from requests<3,>=2.25->python-semantic-release==7.33.2->supabase) (1.26.4)\n",
      "Requirement already satisfied: charset-normalizer<4,>=2 in /Users/nicholascarlin/opt/anaconda3/lib/python3.8/site-packages (from requests<3,>=2.25->python-semantic-release==7.33.2->supabase) (3.0.1)\n",
      "Requirement already satisfied: tqdm>=4.14 in /Users/nicholascarlin/opt/anaconda3/lib/python3.8/site-packages (from twine<4,>=3->python-semantic-release==7.33.2->supabase) (4.59.0)\n",
      "Requirement already satisfied: importlib-metadata>=3.6 in /Users/nicholascarlin/opt/anaconda3/lib/python3.8/site-packages (from twine<4,>=3->python-semantic-release==7.33.2->supabase) (4.10.1)\n",
      "Requirement already satisfied: readme-renderer>=21.0 in /Users/nicholascarlin/opt/anaconda3/lib/python3.8/site-packages (from twine<4,>=3->python-semantic-release==7.33.2->supabase) (37.3)\n",
      "Requirement already satisfied: pkginfo>=1.8.1 in /Users/nicholascarlin/opt/anaconda3/lib/python3.8/site-packages (from twine<4,>=3->python-semantic-release==7.33.2->supabase) (1.9.6)\n",
      "Requirement already satisfied: keyring>=15.1 in /Users/nicholascarlin/opt/anaconda3/lib/python3.8/site-packages (from twine<4,>=3->python-semantic-release==7.33.2->supabase) (22.3.0)\n",
      "Requirement already satisfied: colorama>=0.4.3 in /Users/nicholascarlin/opt/anaconda3/lib/python3.8/site-packages (from twine<4,>=3->python-semantic-release==7.33.2->supabase) (0.4.4)\n",
      "Requirement already satisfied: zipp>=0.5 in /Users/nicholascarlin/opt/anaconda3/lib/python3.8/site-packages (from importlib-metadata>=3.6->twine<4,>=3->python-semantic-release==7.33.2->supabase) (3.4.1)\n",
      "Requirement already satisfied: bleach>=2.1.0 in /Users/nicholascarlin/opt/anaconda3/lib/python3.8/site-packages (from readme-renderer>=21.0->twine<4,>=3->python-semantic-release==7.33.2->supabase) (3.3.0)\n",
      "Requirement already satisfied: docutils>=0.13.1 in /Users/nicholascarlin/opt/anaconda3/lib/python3.8/site-packages (from readme-renderer>=21.0->twine<4,>=3->python-semantic-release==7.33.2->supabase) (0.17)\n",
      "Requirement already satisfied: Pygments>=2.5.1 in /Users/nicholascarlin/opt/anaconda3/lib/python3.8/site-packages (from readme-renderer>=21.0->twine<4,>=3->python-semantic-release==7.33.2->supabase) (2.14.0)\n",
      "Requirement already satisfied: webencodings in /Users/nicholascarlin/opt/anaconda3/lib/python3.8/site-packages (from bleach>=2.1.0->readme-renderer>=21.0->twine<4,>=3->python-semantic-release==7.33.2->supabase) (0.5.1)\n"
     ]
    },
    {
     "name": "stdout",
     "output_type": "stream",
     "text": [
      "Requirement already satisfied: pyparsing>=2.0.2 in /Users/nicholascarlin/opt/anaconda3/lib/python3.8/site-packages (from packaging->python-semantic-release==7.33.2->supabase) (2.4.7)\r\n"
     ]
    }
   ],
   "source": [
    "!pip install python-dotenv\n",
    "!pip install supabase"
   ]
  },
  {
   "cell_type": "code",
   "execution_count": 43,
   "id": "ea1f0bdb",
   "metadata": {},
   "outputs": [],
   "source": [
    "import pandas as pd\n",
    "from dotenv import load_dotenv, dotenv_values\n",
    "from supabase import create_client, Client\n",
    "from pandas import json_normalize \n",
    "import os"
   ]
  },
  {
   "cell_type": "code",
   "execution_count": 25,
   "id": "1726517f",
   "metadata": {},
   "outputs": [
    {
     "data": {
      "text/plain": [
       "True"
      ]
     },
     "execution_count": 25,
     "metadata": {},
     "output_type": "execute_result"
    }
   ],
   "source": [
    "load_dotenv()"
   ]
  },
  {
   "cell_type": "code",
   "execution_count": 26,
   "id": "f1b54e6b",
   "metadata": {},
   "outputs": [],
   "source": [
    "url: str = os.environ.get(\"SUPABASE_URL\")\n",
    "key: str = os.environ.get(\"SUPABASE_KEY\")\n",
    "supabase: Client = create_client(url, key)"
   ]
  },
  {
   "cell_type": "code",
   "execution_count": 41,
   "id": "134f530c",
   "metadata": {},
   "outputs": [],
   "source": [
    "data = supabase.table(\"li_bot\").select(\"*\").execute().data"
   ]
  },
  {
   "cell_type": "code",
   "execution_count": 72,
   "id": "072a1ef3",
   "metadata": {},
   "outputs": [
    {
     "ename": "SyntaxError",
     "evalue": "invalid syntax (<ipython-input-72-7dcc59806a48>, line 1)",
     "output_type": "error",
     "traceback": [
      "\u001b[0;36m  File \u001b[0;32m\"<ipython-input-72-7dcc59806a48>\"\u001b[0;36m, line \u001b[0;32m1\u001b[0m\n\u001b[0;31m    auth_data = supabase.from('auth.users').select('*').execute()\u001b[0m\n\u001b[0m                         ^\u001b[0m\n\u001b[0;31mSyntaxError\u001b[0m\u001b[0;31m:\u001b[0m invalid syntax\n"
     ]
    }
   ],
   "source": [
    "auth_data = supabase.from('auth.users').select('*').execute()"
   ]
  },
  {
   "cell_type": "code",
   "execution_count": 42,
   "id": "30ac2900",
   "metadata": {},
   "outputs": [
    {
     "name": "stdout",
     "output_type": "stream",
     "text": [
      "<class 'list'>\n"
     ]
    }
   ],
   "source": [
    "print(type(data))"
   ]
  },
  {
   "cell_type": "code",
   "execution_count": 63,
   "id": "2a0db279",
   "metadata": {},
   "outputs": [],
   "source": [
    "df = pd.DataFrame(data)"
   ]
  },
  {
   "cell_type": "code",
   "execution_count": 65,
   "id": "17883299",
   "metadata": {},
   "outputs": [],
   "source": [
    "df.drop(columns=['searches', 'who_searched'], inplace=True)\n",
    "df.dropna(axis=1, inplace=True)"
   ]
  },
  {
   "cell_type": "code",
   "execution_count": 66,
   "id": "0d6b6717",
   "metadata": {},
   "outputs": [
    {
     "data": {
      "text/html": [
       "<div>\n",
       "<style scoped>\n",
       "    .dataframe tbody tr th:only-of-type {\n",
       "        vertical-align: middle;\n",
       "    }\n",
       "\n",
       "    .dataframe tbody tr th {\n",
       "        vertical-align: top;\n",
       "    }\n",
       "\n",
       "    .dataframe thead th {\n",
       "        text-align: right;\n",
       "    }\n",
       "</style>\n",
       "<table border=\"1\" class=\"dataframe\">\n",
       "  <thead>\n",
       "    <tr style=\"text-align: right;\">\n",
       "      <th></th>\n",
       "      <th>id</th>\n",
       "      <th>created_at</th>\n",
       "      <th>work_experience</th>\n",
       "      <th>is_company</th>\n",
       "    </tr>\n",
       "  </thead>\n",
       "  <tbody>\n",
       "    <tr>\n",
       "      <th>0</th>\n",
       "      <td>1330</td>\n",
       "      <td>2023-02-02T11:01:46.425302+00:00</td>\n",
       "      <td>{'city': None, 'extra': {'github_profile_id': ...</td>\n",
       "      <td>False</td>\n",
       "    </tr>\n",
       "    <tr>\n",
       "      <th>1</th>\n",
       "      <td>48</td>\n",
       "      <td>2023-01-14T09:36:26.740719+00:00</td>\n",
       "      <td>{'code': 400, 'name': 'Bad Request', 'descript...</td>\n",
       "      <td>True</td>\n",
       "    </tr>\n",
       "    <tr>\n",
       "      <th>2</th>\n",
       "      <td>5</td>\n",
       "      <td>2022-12-19T02:35:32.570739+00:00</td>\n",
       "      <td>{'city': 'Rocky River', 'extra': {'github_prof...</td>\n",
       "      <td>False</td>\n",
       "    </tr>\n",
       "    <tr>\n",
       "      <th>3</th>\n",
       "      <td>7</td>\n",
       "      <td>2022-12-19T02:45:06.637817+00:00</td>\n",
       "      <td>{'code': 400, 'name': 'Bad Request', 'descript...</td>\n",
       "      <td>False</td>\n",
       "    </tr>\n",
       "    <tr>\n",
       "      <th>4</th>\n",
       "      <td>8</td>\n",
       "      <td>2022-12-19T02:47:55.874633+00:00</td>\n",
       "      <td>{'code': 400, 'name': 'Bad Request', 'descript...</td>\n",
       "      <td>False</td>\n",
       "    </tr>\n",
       "  </tbody>\n",
       "</table>\n",
       "</div>"
      ],
      "text/plain": [
       "     id                        created_at  \\\n",
       "0  1330  2023-02-02T11:01:46.425302+00:00   \n",
       "1    48  2023-01-14T09:36:26.740719+00:00   \n",
       "2     5  2022-12-19T02:35:32.570739+00:00   \n",
       "3     7  2022-12-19T02:45:06.637817+00:00   \n",
       "4     8  2022-12-19T02:47:55.874633+00:00   \n",
       "\n",
       "                                     work_experience  is_company  \n",
       "0  {'city': None, 'extra': {'github_profile_id': ...       False  \n",
       "1  {'code': 400, 'name': 'Bad Request', 'descript...        True  \n",
       "2  {'city': 'Rocky River', 'extra': {'github_prof...       False  \n",
       "3  {'code': 400, 'name': 'Bad Request', 'descript...       False  \n",
       "4  {'code': 400, 'name': 'Bad Request', 'descript...       False  "
      ]
     },
     "execution_count": 66,
     "metadata": {},
     "output_type": "execute_result"
    }
   ],
   "source": [
    "df.head()"
   ]
  },
  {
   "cell_type": "code",
   "execution_count": 48,
   "id": "f0023212",
   "metadata": {},
   "outputs": [
    {
     "name": "stderr",
     "output_type": "stream",
     "text": [
      "2023-04-13 15:19:26,944:INFO - Note: NumExpr detected 16 cores but \"NUMEXPR_MAX_THREADS\" not set, so enforcing safe limit of 8.\n",
      "2023-04-13 15:19:26,945:INFO - NumExpr defaulting to 8 threads.\n"
     ]
    }
   ],
   "source": [
    "# df_user = df[df['is_company'] == False]"
   ]
  },
  {
   "cell_type": "code",
   "execution_count": 50,
   "id": "e42ba525",
   "metadata": {},
   "outputs": [],
   "source": [
    "# df_company = df[df['is_company'] == True]"
   ]
  },
  {
   "cell_type": "code",
   "execution_count": 55,
   "id": "1e88cebf",
   "metadata": {},
   "outputs": [],
   "source": [
    "# user_list = df_user.T.to_dict().values()"
   ]
  },
  {
   "cell_type": "code",
   "execution_count": 56,
   "id": "39dafccf",
   "metadata": {
    "scrolled": true
   },
   "outputs": [],
   "source": [
    "# company_list = df_company.T.to_dict().values()"
   ]
  },
  {
   "cell_type": "code",
   "execution_count": null,
   "id": "e1a7ceed",
   "metadata": {},
   "outputs": [],
   "source": [
    "# supabase.table('').insert(user_list).execute()"
   ]
  }
 ],
 "metadata": {
  "kernelspec": {
   "display_name": "Python 3",
   "language": "python",
   "name": "python3"
  },
  "language_info": {
   "codemirror_mode": {
    "name": "ipython",
    "version": 3
   },
   "file_extension": ".py",
   "mimetype": "text/x-python",
   "name": "python",
   "nbconvert_exporter": "python",
   "pygments_lexer": "ipython3",
   "version": "3.8.8"
  }
 },
 "nbformat": 4,
 "nbformat_minor": 5
}
